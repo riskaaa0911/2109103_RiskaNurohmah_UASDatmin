{
 "cells": [
  {
   "cell_type": "markdown",
   "id": "d9cef99c",
   "metadata": {},
   "source": [
    "### UAS Data Mining\n",
    "    Nama   : Riska Nurohmah\n",
    "    NIM    : 2109103\n",
    "    Kelas  : C2 Ilmu Komputer"
   ]
  },
  {
   "cell_type": "code",
   "execution_count": 1,
   "id": "52e01678",
   "metadata": {},
   "outputs": [],
   "source": [
    "%matplotlib inline\n",
    "import numpy as np\n",
    "import pandas as pd\n",
    "import matplotlib.pyplot as plt\n",
    "import seaborn as sns"
   ]
  },
  {
   "cell_type": "code",
   "execution_count": 2,
   "id": "9f9cfde2",
   "metadata": {},
   "outputs": [],
   "source": [
    "#load dataset atau file csv ke DataFrame\n",
    "df1 = pd.read_csv(\"C:\\\\Users\\\\riska\\\\Downloads\\\\uas_datmin\\\\pmi.csv\") #sesuaikan path"
   ]
  },
  {
   "cell_type": "code",
   "execution_count": 3,
   "id": "1ada1160",
   "metadata": {},
   "outputs": [
    {
     "data": {
      "text/html": [
       "<div>\n",
       "<style scoped>\n",
       "    .dataframe tbody tr th:only-of-type {\n",
       "        vertical-align: middle;\n",
       "    }\n",
       "\n",
       "    .dataframe tbody tr th {\n",
       "        vertical-align: top;\n",
       "    }\n",
       "\n",
       "    .dataframe thead th {\n",
       "        text-align: right;\n",
       "    }\n",
       "</style>\n",
       "<table border=\"1\" class=\"dataframe\">\n",
       "  <thead>\n",
       "    <tr style=\"text-align: right;\">\n",
       "      <th></th>\n",
       "      <th>prov</th>\n",
       "      <th>tahun</th>\n",
       "      <th>kategori_pmi</th>\n",
       "    </tr>\n",
       "  </thead>\n",
       "  <tbody>\n",
       "    <tr>\n",
       "      <th>0</th>\n",
       "      <td>ACEH</td>\n",
       "      <td>2022</td>\n",
       "      <td>TINGGI</td>\n",
       "    </tr>\n",
       "    <tr>\n",
       "      <th>1</th>\n",
       "      <td>SUMATERA UTARA</td>\n",
       "      <td>2022</td>\n",
       "      <td>TINGGI</td>\n",
       "    </tr>\n",
       "    <tr>\n",
       "      <th>2</th>\n",
       "      <td>SUMATERA BARAT</td>\n",
       "      <td>2022</td>\n",
       "      <td>TINGGI</td>\n",
       "    </tr>\n",
       "    <tr>\n",
       "      <th>3</th>\n",
       "      <td>RIAU</td>\n",
       "      <td>2022</td>\n",
       "      <td>TINGGI</td>\n",
       "    </tr>\n",
       "    <tr>\n",
       "      <th>4</th>\n",
       "      <td>JAMBI</td>\n",
       "      <td>2022</td>\n",
       "      <td>TINGGI</td>\n",
       "    </tr>\n",
       "  </tbody>\n",
       "</table>\n",
       "</div>"
      ],
      "text/plain": [
       "             prov  tahun kategori_pmi\n",
       "0            ACEH   2022       TINGGI\n",
       "1  SUMATERA UTARA   2022       TINGGI\n",
       "2  SUMATERA BARAT   2022       TINGGI\n",
       "3            RIAU   2022       TINGGI\n",
       "4           JAMBI   2022       TINGGI"
      ]
     },
     "execution_count": 3,
     "metadata": {},
     "output_type": "execute_result"
    }
   ],
   "source": [
    "df1.head(5)"
   ]
  },
  {
   "cell_type": "code",
   "execution_count": 4,
   "id": "3fe0c638",
   "metadata": {},
   "outputs": [
    {
     "data": {
      "text/html": [
       "<div>\n",
       "<style scoped>\n",
       "    .dataframe tbody tr th:only-of-type {\n",
       "        vertical-align: middle;\n",
       "    }\n",
       "\n",
       "    .dataframe tbody tr th {\n",
       "        vertical-align: top;\n",
       "    }\n",
       "\n",
       "    .dataframe thead th {\n",
       "        text-align: right;\n",
       "    }\n",
       "</style>\n",
       "<table border=\"1\" class=\"dataframe\">\n",
       "  <thead>\n",
       "    <tr style=\"text-align: right;\">\n",
       "      <th></th>\n",
       "      <th>prov</th>\n",
       "      <th>tahun</th>\n",
       "      <th>melek_huruf_diatas15</th>\n",
       "    </tr>\n",
       "  </thead>\n",
       "  <tbody>\n",
       "    <tr>\n",
       "      <th>0</th>\n",
       "      <td>ACEH</td>\n",
       "      <td>2022</td>\n",
       "      <td>98.25</td>\n",
       "    </tr>\n",
       "    <tr>\n",
       "      <th>1</th>\n",
       "      <td>SUMATERA UTARA</td>\n",
       "      <td>2022</td>\n",
       "      <td>99.11</td>\n",
       "    </tr>\n",
       "    <tr>\n",
       "      <th>2</th>\n",
       "      <td>SUMATERA BARAT</td>\n",
       "      <td>2022</td>\n",
       "      <td>99.29</td>\n",
       "    </tr>\n",
       "    <tr>\n",
       "      <th>3</th>\n",
       "      <td>RIAU</td>\n",
       "      <td>2022</td>\n",
       "      <td>99.18</td>\n",
       "    </tr>\n",
       "    <tr>\n",
       "      <th>4</th>\n",
       "      <td>JAMBI</td>\n",
       "      <td>2022</td>\n",
       "      <td>98.1</td>\n",
       "    </tr>\n",
       "  </tbody>\n",
       "</table>\n",
       "</div>"
      ],
      "text/plain": [
       "             prov  tahun melek_huruf_diatas15\n",
       "0            ACEH   2022                98.25\n",
       "1  SUMATERA UTARA   2022                99.11\n",
       "2  SUMATERA BARAT   2022                99.29\n",
       "3            RIAU   2022                99.18\n",
       "4           JAMBI   2022                 98.1"
      ]
     },
     "execution_count": 4,
     "metadata": {},
     "output_type": "execute_result"
    }
   ],
   "source": [
    "#Memilih dataset ini karena PMI memiliki dimensi pengetahuan\n",
    "df2 = pd.read_csv(\"C:\\\\Users\\\\riska\\\\Downloads\\\\uas_datmin\\\\melek_huruf_diatas15.csv\")\n",
    "df2.head(5)"
   ]
  },
  {
   "cell_type": "code",
   "execution_count": 5,
   "id": "fb68aa7e",
   "metadata": {},
   "outputs": [
    {
     "data": {
      "text/html": [
       "<div>\n",
       "<style scoped>\n",
       "    .dataframe tbody tr th:only-of-type {\n",
       "        vertical-align: middle;\n",
       "    }\n",
       "\n",
       "    .dataframe tbody tr th {\n",
       "        vertical-align: top;\n",
       "    }\n",
       "\n",
       "    .dataframe thead th {\n",
       "        text-align: right;\n",
       "    }\n",
       "</style>\n",
       "<table border=\"1\" class=\"dataframe\">\n",
       "  <thead>\n",
       "    <tr style=\"text-align: right;\">\n",
       "      <th></th>\n",
       "      <th>tahun</th>\n",
       "      <th>proporsi_hidup_dibawah_50_persen_median_pendapatan</th>\n",
       "      <th>prov</th>\n",
       "    </tr>\n",
       "  </thead>\n",
       "  <tbody>\n",
       "    <tr>\n",
       "      <th>0</th>\n",
       "      <td>2021</td>\n",
       "      <td>9.98</td>\n",
       "      <td>ACEH</td>\n",
       "    </tr>\n",
       "    <tr>\n",
       "      <th>1</th>\n",
       "      <td>2021</td>\n",
       "      <td>5.87</td>\n",
       "      <td>SUMATERA UTARA</td>\n",
       "    </tr>\n",
       "    <tr>\n",
       "      <th>2</th>\n",
       "      <td>2021</td>\n",
       "      <td>2.47</td>\n",
       "      <td>SUMATERA BARAT</td>\n",
       "    </tr>\n",
       "    <tr>\n",
       "      <th>3</th>\n",
       "      <td>2021</td>\n",
       "      <td>2.52</td>\n",
       "      <td>RIAU</td>\n",
       "    </tr>\n",
       "    <tr>\n",
       "      <th>4</th>\n",
       "      <td>2021</td>\n",
       "      <td>5.91</td>\n",
       "      <td>JAMBI</td>\n",
       "    </tr>\n",
       "  </tbody>\n",
       "</table>\n",
       "</div>"
      ],
      "text/plain": [
       "   tahun  proporsi_hidup_dibawah_50_persen_median_pendapatan            prov\n",
       "0   2021                                               9.98             ACEH\n",
       "1   2021                                               5.87   SUMATERA UTARA\n",
       "2   2021                                               2.47   SUMATERA BARAT\n",
       "3   2021                                               2.52             RIAU\n",
       "4   2021                                               5.91            JAMBI"
      ]
     },
     "execution_count": 5,
     "metadata": {},
     "output_type": "execute_result"
    }
   ],
   "source": [
    "#Memilih dataset ini karena PMI memiliki dimensi umur panjang\n",
    "df3 = pd.read_csv(\"C:\\\\Users\\\\riska\\\\Downloads\\\\uas_datmin\\\\proporsi_hidup_dibawah_50_persen_median_pendapatan.csv\")\n",
    "df3.head(5)"
   ]
  },
  {
   "cell_type": "code",
   "execution_count": 6,
   "id": "1caf4a28",
   "metadata": {},
   "outputs": [],
   "source": [
    "df_merge = pd.merge(df2, df3, how='left',on=[\"tahun\", \"prov\"])"
   ]
  },
  {
   "cell_type": "code",
   "execution_count": 7,
   "id": "eeb91233",
   "metadata": {},
   "outputs": [
    {
     "name": "stdout",
     "output_type": "stream",
     "text": [
      "<class 'pandas.core.frame.DataFrame'>\n",
      "Int64Index: 315 entries, 0 to 314\n",
      "Data columns (total 4 columns):\n",
      " #   Column                                              Non-Null Count  Dtype  \n",
      "---  ------                                              --------------  -----  \n",
      " 0   prov                                                315 non-null    object \n",
      " 1   tahun                                               315 non-null    int64  \n",
      " 2   melek_huruf_diatas15                                315 non-null    object \n",
      " 3   proporsi_hidup_dibawah_50_persen_median_pendapatan  140 non-null    float64\n",
      "dtypes: float64(1), int64(1), object(2)\n",
      "memory usage: 12.3+ KB\n"
     ]
    }
   ],
   "source": [
    "df_merge.info()"
   ]
  },
  {
   "cell_type": "code",
   "execution_count": 8,
   "id": "9b36c7e4",
   "metadata": {},
   "outputs": [
    {
     "name": "stdout",
     "output_type": "stream",
     "text": [
      "<class 'pandas.core.frame.DataFrame'>\n",
      "RangeIndex: 442 entries, 0 to 441\n",
      "Data columns (total 3 columns):\n",
      " #   Column        Non-Null Count  Dtype \n",
      "---  ------        --------------  ----- \n",
      " 0   prov          442 non-null    object\n",
      " 1   tahun         442 non-null    int64 \n",
      " 2   kategori_pmi  442 non-null    object\n",
      "dtypes: int64(1), object(2)\n",
      "memory usage: 10.5+ KB\n"
     ]
    }
   ],
   "source": [
    "df1.info()"
   ]
  },
  {
   "cell_type": "code",
   "execution_count": 9,
   "id": "f2383146",
   "metadata": {},
   "outputs": [],
   "source": [
    "df_merge2 = pd.merge(df1, df_merge, how='left',on=[\"tahun\", \"prov\"])"
   ]
  },
  {
   "cell_type": "code",
   "execution_count": 10,
   "id": "f28ebd6c",
   "metadata": {},
   "outputs": [
    {
     "name": "stdout",
     "output_type": "stream",
     "text": [
      "<class 'pandas.core.frame.DataFrame'>\n",
      "Int64Index: 442 entries, 0 to 441\n",
      "Data columns (total 5 columns):\n",
      " #   Column                                              Non-Null Count  Dtype  \n",
      "---  ------                                              --------------  -----  \n",
      " 0   prov                                                442 non-null    object \n",
      " 1   tahun                                               442 non-null    int64  \n",
      " 2   kategori_pmi                                        442 non-null    object \n",
      " 3   melek_huruf_diatas15                                306 non-null    object \n",
      " 4   proporsi_hidup_dibawah_50_persen_median_pendapatan  136 non-null    float64\n",
      "dtypes: float64(1), int64(1), object(3)\n",
      "memory usage: 20.7+ KB\n"
     ]
    }
   ],
   "source": [
    "df_merge2.info()"
   ]
  },
  {
   "cell_type": "code",
   "execution_count": 11,
   "id": "16a3d017",
   "metadata": {},
   "outputs": [],
   "source": [
    "df_merge2 = df_merge2.replace('-', 0)\n",
    "#df_merge2[\"kategori_pmi\"] = df_merge2[\"kategori_pmi\"].astype(\"category\")\n",
    "df_merge2[\"melek_huruf_diatas15\"] = df_merge2[\"melek_huruf_diatas15\"].astype(\"float64\")"
   ]
  },
  {
   "cell_type": "code",
   "execution_count": 12,
   "id": "b5641203",
   "metadata": {},
   "outputs": [],
   "source": [
    "df_merge2['melek_huruf_diatas15'].fillna(0, inplace=True)"
   ]
  },
  {
   "cell_type": "code",
   "execution_count": 13,
   "id": "c7b32958",
   "metadata": {},
   "outputs": [],
   "source": [
    "df_merge2['proporsi_hidup_dibawah_50_persen_median_pendapatan'].fillna(0, inplace=True)"
   ]
  },
  {
   "cell_type": "code",
   "execution_count": 14,
   "id": "db4c0412",
   "metadata": {},
   "outputs": [
    {
     "name": "stdout",
     "output_type": "stream",
     "text": [
      "<class 'pandas.core.frame.DataFrame'>\n",
      "Int64Index: 442 entries, 0 to 441\n",
      "Data columns (total 5 columns):\n",
      " #   Column                                              Non-Null Count  Dtype  \n",
      "---  ------                                              --------------  -----  \n",
      " 0   prov                                                442 non-null    object \n",
      " 1   tahun                                               442 non-null    int64  \n",
      " 2   kategori_pmi                                        442 non-null    object \n",
      " 3   melek_huruf_diatas15                                442 non-null    float64\n",
      " 4   proporsi_hidup_dibawah_50_persen_median_pendapatan  442 non-null    float64\n",
      "dtypes: float64(2), int64(1), object(2)\n",
      "memory usage: 20.7+ KB\n"
     ]
    }
   ],
   "source": [
    "df_merge2.info()"
   ]
  },
  {
   "cell_type": "code",
   "execution_count": 15,
   "id": "6e7da0c6",
   "metadata": {},
   "outputs": [
    {
     "data": {
      "text/plain": [
       "<AxesSubplot:xlabel='kategori_pmi', ylabel='count'>"
      ]
     },
     "execution_count": 15,
     "metadata": {},
     "output_type": "execute_result"
    },
    {
     "data": {
      "image/png": "[encoded data removed]",
      "text/plain": [
       "<Figure size 1440x360 with 1 Axes>"
      ]
     },
     "metadata": {
      "needs_background": "light"
     },
     "output_type": "display_data"
    }
   ],
   "source": [
    "fig, ax = plt.subplots(figsize=(20, 5))\n",
    "sns.countplot(ax=ax, x=\"kategori_pmi\", hue=\"prov\", data=df_merge2)"
   ]
  },
  {
   "cell_type": "code",
   "execution_count": 16,
   "id": "b89f3c58",
   "metadata": {},
   "outputs": [],
   "source": [
    "df_merge2 = df_merge2.drop(['prov'],axis=1)"
   ]
  },
  {
   "cell_type": "code",
   "execution_count": 17,
   "id": "bf28dd1b",
   "metadata": {},
   "outputs": [],
   "source": [
    "x = df_merge2.drop(\"kategori_pmi\", axis=1)\n",
    "y = df_merge2.kategori_pmi"
   ]
  },
  {
   "cell_type": "code",
   "execution_count": 18,
   "id": "528fd287",
   "metadata": {},
   "outputs": [],
   "source": [
    "from sklearn.model_selection import train_test_split\n",
    "X_train,X_test,Y_train,Y_test=train_test_split(x,y,test_size=0.3, random_state=0)"
   ]
  },
  {
   "cell_type": "code",
   "execution_count": 19,
   "id": "2513a2cf",
   "metadata": {},
   "outputs": [],
   "source": [
    "import pickle\n",
    "with open('C:\\\\Users\\\\riska\\\\Downloads\\\\uas_datmin\\\\orders_train_x_train_columns.pickle', 'wb') as fp:\n",
    "    pickle.dump(X_train.columns, fp)"
   ]
  },
  {
   "cell_type": "code",
   "execution_count": 20,
   "id": "2fc40b04",
   "metadata": {},
   "outputs": [
    {
     "name": "stdout",
     "output_type": "stream",
     "text": [
      "Akurasi 0.6917293233082706\n",
      "               precision    recall  f1-score   support\n",
      "\n",
      "SANGAT RENDAH       1.00      0.17      0.29         6\n",
      "SANGAT TINGGI       0.50      0.50      0.50         2\n",
      "       SEDANG       0.71      0.76      0.73        71\n",
      "       TINGGI       0.67      0.67      0.67        54\n",
      "\n",
      "     accuracy                           0.69       133\n",
      "    macro avg       0.72      0.52      0.55       133\n",
      " weighted avg       0.70      0.69      0.68       133\n",
      "\n"
     ]
    }
   ],
   "source": [
    "from sklearn.metrics import classification_report\n",
    "from sklearn.metrics import accuracy_score\n",
    "from sklearn.ensemble import RandomForestClassifier\n",
    "clf_RF3 = RandomForestClassifier(n_estimators=50, random_state=0)\n",
    "clf_RF3.fit(X_train, Y_train)\n",
    "Y_pred = clf_RF3.predict(X_test)\n",
    "acc = accuracy_score(Y_test, Y_pred)\n",
    "print(\"Akurasi {}\".format(acc))\n",
    "print(classification_report(Y_test, Y_pred))"
   ]
  },
  {
   "cell_type": "code",
   "execution_count": 21,
   "id": "39c2ccac",
   "metadata": {},
   "outputs": [
    {
     "name": "stdout",
     "output_type": "stream",
     "text": [
      "Akurasi 0.706766917293233\n",
      "               precision    recall  f1-score   support\n",
      "\n",
      "SANGAT RENDAH       1.00      0.17      0.29         6\n",
      "SANGAT TINGGI       0.00      0.00      0.00         2\n",
      "       SEDANG       0.73      0.83      0.78        71\n",
      "       TINGGI       0.71      0.63      0.67        54\n",
      "\n",
      "     accuracy                           0.71       133\n",
      "    macro avg       0.61      0.41      0.43       133\n",
      " weighted avg       0.72      0.71      0.70       133\n",
      "\n"
     ]
    }
   ],
   "source": [
    "from sklearn import tree\n",
    "clf_DT = tree.DecisionTreeClassifier()\n",
    "clf_DT.fit(X_train, Y_train)\n",
    "Y_pred = clf_DT.predict(X_test)\n",
    "acc = accuracy_score(Y_test, Y_pred)\n",
    "print(\"Akurasi {}\".format(acc))\n",
    "print(classification_report(Y_test, Y_pred))"
   ]
  },
  {
   "cell_type": "code",
   "execution_count": null,
   "id": "055a9162",
   "metadata": {},
   "outputs": [],
   "source": []
  }
 ],
 "metadata": {
  "kernelspec": {
   "display_name": "Python 3 (ipykernel)",
   "language": "python",
   "name": "python3"
  },
  "language_info": {
   "codemirror_mode": {
    "name": "ipython",
    "version": 3
   },
   "file_extension": ".py",
   "mimetype": "text/x-python",
   "name": "python",
   "nbconvert_exporter": "python",
   "pygments_lexer": "ipython3",
   "version": "3.9.12"
  }
 },
 "nbformat": 4,
 "nbformat_minor": 5
}
